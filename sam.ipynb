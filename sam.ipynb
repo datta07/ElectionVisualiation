{
 "cells": [
  {
   "cell_type": "code",
   "execution_count": 7,
   "metadata": {},
   "outputs": [],
   "source": [
    "import pandas as pd\n",
    "df=pd.read_excel(\"Gujarat/indiaGujarat.xlsx\")"
   ]
  },
  {
   "cell_type": "code",
   "execution_count": 8,
   "metadata": {},
   "outputs": [
    {
     "data": {
      "text/plain": [
       "['Unnamed: 0',\n",
       " 'Unnamed: 0.1',\n",
       " 'State-UT Code & Name',\n",
       " 'PC NO',\n",
       " 'PC NAME',\n",
       " 'AC NO',\n",
       " 'AC NAME',\n",
       " 'TOTAL ELECTORS',\n",
       " 'TOTAL VOTES IN STATE',\n",
       " 'NOTA VOTES EVM',\n",
       " 'CANDIDATE NAME',\n",
       " 'PARTY',\n",
       " 'VOTES SECURED EVM']"
      ]
     },
     "execution_count": 8,
     "metadata": {},
     "output_type": "execute_result"
    }
   ],
   "source": [
    "def makeStateExcel(state):\n",
    "    df1=df.loc[df['State-UT Code & Name'] == state]\n",
    "    df1.to_excel('india'+state+'.xlsx')\n",
    "#makeStateExcel(\"Gujarat\")\n",
    "list(df.columns.values)"
   ]
  },
  {
   "cell_type": "code",
   "execution_count": 9,
   "metadata": {},
   "outputs": [
    {
     "name": "stdout",
     "output_type": "stream",
     "text": [
      "{1: 'Abdasa', 2: 'Mandvi', 3: 'Bhuj', 4: 'Anjar', 5: 'Gandhidham', 6: 'Rapar', 65: 'Morbi', 7: 'Vav', 8: 'Tharad', 9: 'Dhanera', 10: 'Danta', 12: 'Palanpur', 13: 'Deesa', 14: 'Deodar', 11: 'Vadgam', 15: 'Kankrej', 16: 'Radhanpur', 17: 'Chanasma', 18: 'Patan', 19: 'Sidhpur', 20: 'Kheralu', 21: 'Unjha', 22: 'Visnagar', 23: 'Becharaji', 24: 'Kadi', 25: 'Mahesana', 26: 'Vijapur', 37: 'Mansa', 27: 'Himatnagar', 28: 'Idar', 29: 'Khedbrahma', 30: 'Bhiloda', 31: 'Modasa', 32: 'Bayad', 33: 'Prantij', 36: 'Gandhinagar North', 38: 'Kalol', 40: 'Sanand', 41: 'Ghatlodia', 42: 'Vejalpur', 45: 'Naranpura', 55: 'Sabarmati', 34: 'Dahegam', 35: 'Gandhinagar South', 43: 'Vatva', 46: 'Nikol', 47: 'Naroda', 48: 'Thakkarbapa Nagar', 49: 'Bapunagar', 44: 'Ellisbridge', 50: 'Amraiwadi', 51: 'Dariapur', 52: 'Jamalpur - Khadia', 53: 'Maninagar', 54: 'Danilimda', 56: 'Asarwa', 39: 'Viramgam', 59: 'Dhandhuka', 60: 'Dasada', 61: 'Limbdi', 62: 'Wadhwan', 63: 'Chotila', 64: 'Dhrangadhra', 66: 'Tankara', 67: 'Wankaner', 68: 'Rajkot East', 69: 'Rajkot West', 70: 'Rajkot South', 71: 'Rajkot Rural', 72: 'Jasdan', 73: 'Gondal', 74: 'Jetpur', 75: 'Dhoraji', 83: 'Porbandar', 84: 'Kutiyana', 85: 'Manavadar', 88: 'Keshod', 76: 'Kalavad ', 77: 'Jamnagar Rural', 78: 'Jamnagar North', 79: 'Jamnagar South', 80: 'Jamjodhpur', 81: 'Khambhalia', 82: 'Dwarka', 86: 'Junagadh', 87: 'Visavadar', 89: 'Mangrol', 90: 'Somnath', 91: 'TALALA', 92: 'Kodinar', 93: 'Una', 94: 'Dhari', 95: 'Amreli', 96: 'Lathi', 97: 'Savarkundla', 98: 'Rajula', 99: 'Mahuva', 101: 'Gariadhar', 100: 'Talaja', 102: 'Palitana', 103: 'Bhavnagar Rural', 104: 'Bhavnagar East', 105: 'Bhavnagar West', 106: 'Gadhada', 107: 'Botad', 108: 'Khambhat', 109: 'Borsad', 110: 'Anklav', 111: 'Umreth', 112: 'Anand', 113: 'Petlad', 114: 'Sojitra', 57: 'Daskroi', 58: 'Dholka', 115: 'Matar', 116: 'Nadiad', 117: 'Mehmedabad', 118: 'Mahudha', 120: 'Kapadvanj', 119: 'Thasra', 121: 'Balasinor', 122: 'Lunawada', 124: 'Shehra', 125: 'Morva Hadaf ', 126: 'Godhra', 127: 'Kalol', 123: 'Santrampur ', 129: 'Fatepura', 130: 'Jhalod', 131: 'Limkheda', 132: 'Dahod', 133: 'Garbada', 134: 'Devgadhbaria', 135: 'Savli', 136: 'Vaghodia', 141: 'Vadodara City ', 142: 'Sayajigunj', 143: 'Akota', 144: 'Raopura', 145: 'Manjalpur', 128: 'Halol', 137: 'Chhota Udaipur', 138: 'Jetpur', 139: 'Sankheda', 140: 'Dabhoi', 146: 'Padra', 148: 'Nandod', 147: 'Karjan', 149: 'Dediapada', 150: 'Jambusar', 151: 'Vagra', 152: 'Jhagadia', 153: 'Bharuch', 154: 'Ankleshwar', 156: 'Mangrol', 157: 'Mandvi', 158: 'Kamrej', 169: 'Bardoli', 170: 'Mahuva', 171: 'Vyara', 172: 'Nizar', 155: 'Olpad', 159: 'Surat East', 160: 'Surat North', 161: 'Varachha Road', 162: 'Karanj', 166: 'Katargam', 167: 'Surat West', 163: 'Limbayat', 164: 'Udhna', 165: 'Majura', 168: 'Choryasi', 174: 'Jalalpore', 175: 'Navsari', 176: 'Gandevi', 173: 'Dangs', 177: 'Vansda', 178: 'Dharampur', 179: 'Valsad', 180: 'Pardi', 181: 'Kaprada', 182: 'Umbergaon'}\n"
     ]
    }
   ],
   "source": [
    "l=df.loc[:,[\"AC NO\",\"AC NAME\"]].values.tolist()\n",
    "data={}\n",
    "for i in l:\n",
    "    data[i[0]]=i[1]\n",
    "print(data)"
   ]
  },
  {
   "cell_type": "code",
   "execution_count": 10,
   "metadata": {},
   "outputs": [
    {
     "name": "stdout",
     "output_type": "stream",
     "text": [
      "{8: 'BJP', 7: 'BJP', 9: 'BJP', 10: 'BJP', 14: 'BJP', 13: 'BJP', 29: 'BJP', 12: 'BJP', 11: 'INC', 15: 'BJP', 3: 'BJP', 19: 'BJP', 1: 'BJP', 18: 'BJP', 16: 'BJP', 20: 'BJP', 6: 'BJP', 28: 'BJP', 17: 'BJP', 21: 'BJP', 30: 'BJP', 22: 'BJP', 26: 'BJP', 23: 'BJP', 27: 'BJP', 5: 'BJP', 25: 'BJP', 4: 'BJP', 31: 'BJP', 60: 'BJP', 37: 'BJP', 39: 'BJP', 33: 'BJP', 32: 'BJP', 24: 'BJP', 2: 'BJP', 122: 'BJP', 123: 'BJP', 35: 'BJP', 38: 'BJP', 36: 'BJP', 64: 'BJP', 34: 'BJP', 65: 'BJP', 129: 'BJP', 121: 'BJP', 120: 'BJP', 41: 'BJP', 40: 'BJP', 44: 'BJP', 125: 'BJP', 57: 'BJP', 130: 'INC', 66: 'BJP', 76: 'BJP', 77: 'BJP', 42: 'BJP', 124: 'BJP', 43: 'BJP', 131: 'BJP', 63: 'BJP', 117: 'BJP', 119: 'BJP', 62: 'BJP', 67: 'BJP', 58: 'BJP', 132: 'INC', 118: 'BJP', 126: 'BJP', 115: 'BJP', 134: 'BJP', 135: 'BJP', 61: 'BJP', 82: 'BJP', 133: 'BJP', 111: 'BJP', 116: 'BJP', 78: 'BJP', 127: 'BJP', 79: 'BJP', 81: 'BJP', 114: 'BJP', 80: 'BJP', 113: 'BJP', 59: 'BJP', 112: 'BJP', 110: 'BJP', 128: 'BJP', 108: 'BJP', 137: 'BJP', 71: 'BJP', 70: 'BJP', 136: 'BJP', 69: 'BJP', 109: 'BJP', 107: 'BJP', 68: 'BJP', 72: 'BJP', 142: 'BJP', 139: 'BJP', 146: 'BJP', 141: 'BJP', 144: 'BJP', 143: 'BJP', 138: 'BJP', 140: 'BJP', 73: 'BJP', 150: 'BJP', 145: 'BJP', 74: 'BJP', 83: 'BJP', 106: 'BJP', 75: 'BJP', 103: 'BJP', 147: 'BJP', 96: 'BJP', 84: 'BJP', 148: 'BJP', 95: 'BJP', 151: 'BJP', 152: 'BJP', 85: 'BJP', 105: 'BJP', 104: 'BJP', 102: 'BJP', 86: 'BJP', 87: 'BJP', 101: 'BJP', 153: 'BJP', 94: 'BJP', 97: 'BJP', 149: 'BJP', 154: 'BJP', 88: 'BJP', 100: 'BJP', 156: 'BJP', 172: 'INC', 91: 'BJP', 155: 'BJP', 157: 'INC', 89: 'BJP', 158: 'BJP', 93: 'BJP', 99: 'BJP', 159: 'BJP', 98: 'BJP', 171: 'INC', 90: 'BJP', 170: 'BJP', 169: 'BJP', 168: 'BJP', 92: 'INC', 174: 'BJP', 175: 'BJP', 173: 'BJP', 176: 'BJP', 177: 'BJP', 179: 'BJP', 178: 'BJP', 180: 'BJP', 181: 'BJP', 182: 'BJP'} {'BJP', 'INC'}\n"
     ]
    }
   ],
   "source": [
    "l=df.loc[df['AC NO'] == 106,['PARTY','VOTES SECURED EVM']].values.tolist()\n",
    "def larget(l):\n",
    "    max=0\n",
    "    max_party=''\n",
    "    for i in l:\n",
    "        if i[1]>max:\n",
    "            max=i[1]\n",
    "            max_party=i[0]\n",
    "    return max_party\n",
    "map_data={8: 'Tharad', 7: 'Vav', 9: 'Dhanera', 10: 'Danta (ST)', 14: 'Deodar', 13: 'Deesa', 29: 'Khedbrahma(ST)', 12: 'Palanpur', 11: 'Vadgam (SC)', 15: 'Kankrej', 3: 'Bhuj', 19: 'Sidhpur', 1: 'Abdasa', 18: 'Patan', 16: 'Radhanpur', 20: 'Kheralu', 6: 'Rapar', 28: 'Idar (SC)', 17: 'Chanasma', 21: 'Unjha', 30: 'Bhiloda (ST)', 22: 'Visnagar', 26: 'Vijapur', 23: 'Becharaji', 27: 'Himatnagar', 5: 'Gandhidham(SC)', 25: 'Mahesana', 4: 'Anjar', 31: 'Modasa', 60: 'Dasada (SC)', 37: 'Mansa', 39: 'Viramgam', 33: 'Prantij', 32: 'Bayad', 24: 'Kadi (SC)', 2: 'Mandvi', 122: 'Lunawada', 123: 'Santrampur', 35: 'Gandhinagar(South)', 38: 'Kalol', 36: 'Gandhinagar(North)', 64: 'Dhrangadhra', 34: 'Dahegam', 65: 'Morbi', 129: 'Fatepura (ST)', 121: 'Balasinor', 120: 'Kapadvanj', 41: 'Ghatlodia', 40: 'Sanand', 44: 'Ellisbridge', 125: 'Morva Hadaf', 57: 'Daskroi', 130: 'Jhalod (ST)', 66: 'Tankara', 76: 'Kalavad (SC)', 77: 'Jamnagar', 42: 'Vejalpur', 124: 'Shehra', 43: 'Vatva', 131: 'Limkheda (ST)', 63: 'Chotila', 117: 'Mehmedabad', 119: 'Thasra', 62: 'Wadhwan', 67: 'Wankaner', 58: 'Dholka', 132: 'Dahod (ST)', 118: 'Mahudha', 126: 'Godhra', 115: 'Matar', 134: 'Devgadhbaria', 135: 'Savli', 61: 'Limbdi', 82: 'Dwarka', 133: 'Garbada (ST)', 111: 'Umreth', 116: 'Nadiad', 78: 'Jamnagar North', 127: 'Kalol', 79: 'Jamnagar South', 81: 'Khambhalia', 114: 'Sojitra', 80: 'Jamjodhpur', 113: 'Petlad', 59: 'Dhandhuka', 112: 'Anand', 110: 'Anklav', 128: 'Halol', 108: 'Khambhat', 137: 'Chhota Udaipur (ST', 71: 'Rajkot Rural(SC)', 70: 'Rajkot South', 136: 'Vaghodia', 69: 'Rajkot West', 109: 'Borsad', 107: 'Botad', 68: 'Rajkot East', 72: 'Jasdan', 142: 'Sayajigunj', 139: 'Sankheda(ST)', 146: 'Padra', 141: 'Vadodara City(SC)', 144: 'Raopura', 143: 'Akota', 138: 'Jetpur (ST)', 140: 'Dabhoi', 73: 'Gondal', 150: 'Jambusar', 145: 'Manjalpur', 74: 'Jetpur', 83: 'Porbandar', 106: 'Gadhada (SC)', 75: 'Dhoraji', 103: 'Bhavnagar Rural', 147: 'Karjan', 96: 'Lathi', 84: 'Kutiyana', 148: 'Nandod (ST)', 95: 'Amreli', 151: 'Vagra', 152: 'Jhagadia (ST)', 85: 'Manavadar', 105: 'Bhavnagar West', 104: 'Bhavnagar East', 102: 'Palitana', 86: 'Junagadh', 87: 'Visavadar', 101: 'Gariadhar', 153: 'Bharuch', 94: 'Dhari', 97: 'Savarkundla', 149: 'Dediapada(ST)', 154: 'Ankleshwar', 88: 'Keshod', 100: 'Talaja', 156: 'Mangrol (ST)', 172: 'Nizar (ST)', 91: 'Talala', 155: 'Olpad', 157: 'Mandvi (ST)', 89: 'Mangrol', 158: 'Kamrej', 93: 'Una', 99: 'Mahuva', 159: 'Surat East', 98: 'Rajula', 171: 'Vyara (ST)', 90: 'Somnath', 170: 'Mahuva (ST)', 169: 'Bardoli (SC)', 168: 'Choryasi', 92: 'Kodinar (SC)', 174: 'Jalalpore', 175: 'Navsari', 173: 'Dangs (ST)', 176: 'Gandevi (ST)', 177: 'Vansda (ST)', 179: 'Valsad', 178: 'Dharampur', 180: 'Pardi', 181: 'Kaprada (ST)', 182: 'Umbergaon'}\n",
    "#map_data=list(map_data.values())\n",
    "data={}\n",
    "for i in map_data:\n",
    "    data[i]=larget(df.loc[df['AC NO'] == i,['PARTY','VOTES SECURED EVM']].values.tolist())\n",
    "print(data,set(data.values()))"
   ]
  },
  {
   "cell_type": "code",
   "execution_count": null,
   "metadata": {},
   "outputs": [],
   "source": []
  },
  {
   "cell_type": "code",
   "execution_count": null,
   "metadata": {},
   "outputs": [],
   "source": []
  }
 ],
 "metadata": {
  "kernelspec": {
   "display_name": "Python 3",
   "language": "python",
   "name": "python3"
  },
  "language_info": {
   "codemirror_mode": {
    "name": "ipython",
    "version": 3
   },
   "file_extension": ".py",
   "mimetype": "text/x-python",
   "name": "python",
   "nbconvert_exporter": "python",
   "pygments_lexer": "ipython3",
   "version": "3.7.1"
  }
 },
 "nbformat": 4,
 "nbformat_minor": 2
}
